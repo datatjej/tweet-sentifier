{
 "cells": [
  {
   "cell_type": "code",
   "execution_count": 1,
   "metadata": {},
   "outputs": [],
   "source": [
    "#import stuff here:\n",
    "import pandas as pd\n",
    "import numpy as np\n",
    "import re\n",
    "import string\n",
    "from nltk.corpus import stopwords\n",
    "from nltk.tokenize import word_tokenize\n",
    "from sklearn.feature_extraction.text import TfidfVectorizer\n",
    "from sklearn.model_selection import train_test_split\n",
    "from nltk.stem import PorterStemmer\n",
    "from nltk.stem import WordNetLemmatizer\n",
    "# ML libraries\n",
    "from sklearn.metrics import accuracy_score\n",
    "from sklearn.naive_bayes import MultinomialNB\n",
    "from sklearn.linear_model import LogisticRegression\n",
    "from sklearn.svm import SVC\n",
    "\n",
    "# Global Parameters\n",
    "stop_words = set(stopwords.words('english'))"
   ]
  },
  {
   "cell_type": "code",
   "execution_count": 2,
   "metadata": {},
   "outputs": [],
   "source": [
    "def load_dataset(filename, cols):\n",
    "    dataset = pd.read_csv(filename, encoding='latin-1')\n",
    "    dataset.columns = cols\n",
    "    return dataset\n",
    "\n",
    "def remove_unwanted_cols(dataset, cols):\n",
    "    for col in cols:\n",
    "        del dataset[col]\n",
    "    return dataset    "
   ]
  },
  {
   "cell_type": "code",
   "execution_count": 3,
   "metadata": {},
   "outputs": [],
   "source": [
    "filename = '../../archive/training.1600000.processed.noemoticon.csv'\n",
    "dataset = load_dataset(filename, ['target', 'id', 'date', 'flag', 'user', 'text'])\n",
    "unique_values = dataset.target.unique()\n",
    "dataset = remove_unwanted_cols(dataset, ['id', 'date', 'flag', 'user'])\n"
   ]
  },
  {
   "cell_type": "code",
   "execution_count": 15,
   "metadata": {},
   "outputs": [],
   "source": [
    "def tokenize(dataset):\n",
    "    #punct_list = '!\"$%&()*+,-./:;<=>?@[\\]^{|}~\" + '0123456789'\n",
    "    table = str.maketrans('', '', string.punctuation)\n",
    "    polartiy_list = dataset['target'].tolist()\n",
    "    tweet_list = dataset['text'].tolist()\n",
    "    tokenized_tweets = []\n",
    "    iteration = 0\n",
    "    for tweet in tweet_list:\n",
    "        iteration += 1\n",
    "        if iteration == 100000:\n",
    "            print(\"100 000...\")\n",
    "        elif iteration == 500000:\n",
    "            print(\"500 000...\")\n",
    "        elif iteration == 1000000:\n",
    "            print(\"1 million...\")\n",
    "        split_tweet = tweet.split()\n",
    "        stripped_tweet = [word.translate(table) for word in split_tweet]\n",
    "        tokenized_tweets.append(stripped_tweet)\n",
    "    print(tokenized_tweets[0])"
   ]
  },
  {
   "cell_type": "code",
   "execution_count": 16,
   "metadata": {},
   "outputs": [
    {
     "name": "stdout",
     "output_type": "stream",
     "text": [
      "100 000...\n",
      "500 000...\n",
      "1 million...\n",
      "['is', 'upset', 'that', 'he', 'cant', 'update', 'his', 'Facebook', 'by', 'texting', 'it', 'and', 'might', 'cry', 'as', 'a', 'result', 'School', 'today', 'also', 'Blah']\n"
     ]
    }
   ],
   "source": [
    "tokenize(dataset)"
   ]
  },
  {
   "cell_type": "code",
   "execution_count": null,
   "metadata": {},
   "outputs": [],
   "source": [
    "print(dataset.loc[[1000000]])"
   ]
  },
  {
   "cell_type": "code",
   "execution_count": 6,
   "metadata": {},
   "outputs": [
    {
     "name": "stdout",
     "output_type": "stream",
     "text": [
      "[0 4]\n"
     ]
    }
   ],
   "source": [
    "print(unique_values)"
   ]
  },
  {
   "cell_type": "code",
   "execution_count": 7,
   "metadata": {},
   "outputs": [],
   "source": [
    "#Train-test-split"
   ]
  },
  {
   "cell_type": "code",
   "execution_count": 8,
   "metadata": {},
   "outputs": [],
   "source": [
    "#Tokenization"
   ]
  },
  {
   "cell_type": "code",
   "execution_count": 9,
   "metadata": {},
   "outputs": [],
   "source": [
    "#Word embeddings"
   ]
  },
  {
   "cell_type": "code",
   "execution_count": 10,
   "metadata": {},
   "outputs": [],
   "source": [
    "#Padding"
   ]
  },
  {
   "cell_type": "code",
   "execution_count": 11,
   "metadata": {},
   "outputs": [],
   "source": [
    "#Baseline: Naive Bayes"
   ]
  }
 ],
 "metadata": {
  "kernelspec": {
   "display_name": "pytorchEnv",
   "language": "python",
   "name": "pytorchenv"
  },
  "language_info": {
   "codemirror_mode": {
    "name": "ipython",
    "version": 3
   },
   "file_extension": ".py",
   "mimetype": "text/x-python",
   "name": "python",
   "nbconvert_exporter": "python",
   "pygments_lexer": "ipython3",
   "version": "3.7.7"
  }
 },
 "nbformat": 4,
 "nbformat_minor": 2
}
